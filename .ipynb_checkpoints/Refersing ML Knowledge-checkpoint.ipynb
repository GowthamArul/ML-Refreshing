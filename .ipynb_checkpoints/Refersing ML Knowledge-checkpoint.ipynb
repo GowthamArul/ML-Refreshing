{
 "cells": [
  {
   "cell_type": "code",
   "execution_count": null,
   "id": "6df1dd89",
   "metadata": {},
   "outputs": [],
   "source": [
    "import pandas as pd\n",
    "from sklearn.tree import DecisionTreeClassifier\n",
    "from sklearn.model_selection import train_test_split\n",
    "from sklearn.metrics import accuracy_score"
   ]
  },
  {
   "cell_type": "code",
   "execution_count": null,
   "id": "a5719355",
   "metadata": {},
   "outputs": [],
   "source": [
    "df = pd.read_csv('music.csv')"
   ]
  },
  {
   "cell_type": "code",
   "execution_count": null,
   "id": "ca6e575c",
   "metadata": {},
   "outputs": [],
   "source": [
    "df.head()"
   ]
  },
  {
   "cell_type": "code",
   "execution_count": null,
   "id": "00ea8678",
   "metadata": {},
   "outputs": [],
   "source": [
    "df.shape"
   ]
  },
  {
   "cell_type": "code",
   "execution_count": null,
   "id": "f47cb884",
   "metadata": {},
   "outputs": [],
   "source": [
    "df.describe()"
   ]
  },
  {
   "cell_type": "code",
   "execution_count": null,
   "id": "6109a02b",
   "metadata": {},
   "outputs": [],
   "source": [
    "X = df.drop(columns=['genre'])\n",
    "y = df['genre']"
   ]
  },
  {
   "cell_type": "code",
   "execution_count": null,
   "id": "c56542c7",
   "metadata": {},
   "outputs": [],
   "source": [
    "model = DecisionTreeClassifier()\n",
    "model.fit(X,y) \n",
    "# pred = model.predict([[21,0], [27,1]])\n",
    "# pred"
   ]
  },
  {
   "cell_type": "markdown",
   "id": "62399744",
   "metadata": {},
   "source": [
    "## Spliting Train and Test dataset "
   ]
  },
  {
   "cell_type": "code",
   "execution_count": null,
   "id": "02944a30",
   "metadata": {},
   "outputs": [],
   "source": [
    "X_train, X_test, y_train, y_test = train_test_split(X,y,test_size=0.2)\n",
    "model = DecisionTreeClassifier()\n",
    "model.fit(X_train,y_train) # In model fit will pass the train dataset of X and y.\n",
    "pred = model.predict(X_test) #  # In Predict will pass the input test dataset X.\n",
    "score = accuracy_score(y_test, pred) # 1st argument is expected values(y_test), and the 2nd argument is actual values.\n",
    "score"
   ]
  },
  {
   "cell_type": "markdown",
   "id": "f9468f88",
   "metadata": {},
   "source": [
    "## To save the trained model"
   ]
  },
  {
   "cell_type": "code",
   "execution_count": null,
   "id": "e8758d77",
   "metadata": {},
   "outputs": [],
   "source": [
    "# from sklearn.externals import joblib\n",
    "import joblib"
   ]
  },
  {
   "cell_type": "code",
   "execution_count": null,
   "id": "d599ed82",
   "metadata": {},
   "outputs": [],
   "source": [
    "joblib.dump(model, 'Music-rec.joblib')"
   ]
  }
 ],
 "metadata": {
  "kernelspec": {
   "display_name": "Python 3 (ipykernel)",
   "language": "python",
   "name": "python3"
  },
  "language_info": {
   "codemirror_mode": {
    "name": "ipython",
    "version": 3
   },
   "file_extension": ".py",
   "mimetype": "text/x-python",
   "name": "python",
   "nbconvert_exporter": "python",
   "pygments_lexer": "ipython3",
   "version": "3.9.7"
  }
 },
 "nbformat": 4,
 "nbformat_minor": 5
}
